{
  "cells": [
    {
      "cell_type": "markdown",
      "metadata": {
        "id": "EdoSe1wb7lX9"
      },
      "source": [
        "# Работа со строковыми значениями"
      ]
    },
    {
      "cell_type": "markdown",
      "metadata": {
        "id": "otWXOo247lYB"
      },
      "source": [
        "__Автор задач: Блохин Н.В. (NVBlokhin@fa.ru)__\n",
        "\n",
        "Материалы:\n",
        "* Макрушин С.В. Лекция \"Работа со строковыми значениям\"\n",
        "* https://pyformat.info/\n",
        "* https://docs.python.org/3/library/re.html\n",
        "    * https://docs.python.org/3/library/re.html#flags\n",
        "    * https://docs.python.org/3/library/re.html#functions\n",
        "* https://pythonru.com/primery/primery-primeneniya-regulyarnyh-vyrazheniy-v-python\n",
        "* https://kanoki.org/2019/11/12/how-to-use-regex-in-pandas/\n",
        "* https://realpython.com/nltk-nlp-python/"
      ]
    },
    {
      "cell_type": "markdown",
      "metadata": {
        "id": "X8it6j9Z7lYC"
      },
      "source": [
        "## Задачи для совместного разбора"
      ]
    },
    {
      "cell_type": "markdown",
      "metadata": {
        "id": "5bpV0-6N7lYC"
      },
      "source": [
        "1. Вывести на экран данные из словаря `obj` построчно в виде `k = v`, задав формат таким образом, чтобы знак равенства оказался на одной и той же позиции во всех строках. Строковые литералы обернуть в кавычки."
      ]
    },
    {
      "cell_type": "code",
      "execution_count": 1,
      "metadata": {
        "colab": {
          "base_uri": "https://localhost:8080/"
        },
        "id": "m4A5C1H97lYC",
        "outputId": "57d7b05c-2d2b-4d2f-c395-8a350964743f"
      },
      "outputs": [
        {
          "output_type": "stream",
          "name": "stdout",
          "text": [
            "\"home_page\"   = \"https://github.com/pypa/sampleproject\"\n",
            "\"keywords\"    = \"sample setuptools development\"\n",
            "\"license\"     = \"MIT\"     \n"
          ]
        }
      ],
      "source": [
        "obj = {\n",
        "    \"home_page\": \"https://github.com/pypa/sampleproject\",\n",
        "    \"keywords\": \"sample setuptools development\",\n",
        "    \"license\": \"MIT\",\n",
        "}\n",
        "for i in obj:\n",
        "  print(f'''{'\"'+i+'\"':13} = {'\"'+obj[i]+'\"':10}''')"
      ]
    },
    {
      "cell_type": "markdown",
      "metadata": {
        "id": "mtriySOi7lYD"
      },
      "source": [
        "2. Написать регулярное выражение,которое позволит найти номера групп студентов."
      ]
    },
    {
      "cell_type": "code",
      "execution_count": 3,
      "metadata": {
        "colab": {
          "base_uri": "https://localhost:8080/"
        },
        "id": "63NRG6GY7lYD",
        "outputId": "1c660627-f066-4fdc-d3f6-75439d1b3fd5"
      },
      "outputs": [
        {
          "output_type": "stream",
          "name": "stdout",
          "text": [
            "['ПМ19-1', 'пм 20-4', '20-3']\n"
          ]
        }
      ],
      "source": [
        "import pandas as pd\n",
        "import re\n",
        "\n",
        "obj = pd.Series([\"Евгения гр.ПМ19-1\", \"Илья пм 20-4\", \"Анна 20-3\"])\n",
        "\n",
        "print(re.findall(r'[ .]([А-Яа-я]{0,2} ?\\d{2}-\\d)', ' '.join(obj)))"
      ]
    },
    {
      "cell_type": "markdown",
      "metadata": {
        "id": "7GlS65nP7lYE"
      },
      "source": [
        "3. Разбейте текст формулировки задачи 2 на слова."
      ]
    },
    {
      "cell_type": "code",
      "source": [
        "str_ = 'Написать регулярное выражение,которое позволит найти номера групп студентов.'\n",
        "res = re.findall(r'[А-яеЁ]+', str_)\n",
        "res"
      ],
      "metadata": {
        "colab": {
          "base_uri": "https://localhost:8080/"
        },
        "id": "2zcL-XbD8LZw",
        "outputId": "4177475f-c7aa-4b61-db23-d8558a07f789"
      },
      "execution_count": 4,
      "outputs": [
        {
          "output_type": "execute_result",
          "data": {
            "text/plain": [
              "['Написать',\n",
              " 'регулярное',\n",
              " 'выражение',\n",
              " 'которое',\n",
              " 'позволит',\n",
              " 'найти',\n",
              " 'номера',\n",
              " 'групп',\n",
              " 'студентов']"
            ]
          },
          "metadata": {},
          "execution_count": 4
        }
      ]
    },
    {
      "cell_type": "markdown",
      "metadata": {
        "id": "bG-LVmPB7lYE"
      },
      "source": [
        "## Лабораторная работа 6"
      ]
    },
    {
      "cell_type": "markdown",
      "metadata": {
        "id": "sPpHSTO27lYE"
      },
      "source": [
        "### Форматирование строк"
      ]
    },
    {
      "cell_type": "markdown",
      "metadata": {
        "id": "t41REk6q7lYE"
      },
      "source": [
        "1\\. Загрузите данные из файла `recipes_sample.csv` (__ЛР2__) в виде `pd.DataFrame` `recipes` При помощи форматирования строк выведите информацию об id рецепта и времени выполнения 5 случайных рецептов в виде таблицы следующего вида:\n",
        "\n",
        "    \n",
        "    |      id      |  minutes  |\n",
        "    |--------------------------|\n",
        "    |    61178     |    65     |\n",
        "    |    202352    |    80     |\n",
        "    |    364322    |    150    |\n",
        "    |    26177     |    20     |\n",
        "    |    224785    |    35     |\n",
        "    \n",
        "Обратите внимание, что ширина столбцов заранее неизвестна и должна рассчитываться динамически, в зависимости от тех данных, которые были выбраны. "
      ]
    },
    {
      "cell_type": "code",
      "source": [
        "data = pd.read_csv('recipes_sample.csv')\n",
        "a = data[[\"id\",\"minutes\"]].sample (n= 5 )\n",
        "a = a.reset_index(drop=True)\n",
        "# a = data[data[\"id\"] == 67664]\n",
        "a.reset_index(drop= True , inplace= True )\n",
        "# a[\"name\"][0]f\n",
        "print(\"|      id      |  minutes  |\")\n",
        "print(\"|--------------------------|\")\n",
        "for j in range(5):\n",
        "    print(f\"|{a.iloc[j,0]: ^14}|{a.iloc[j,1]: ^11}|\")"
      ],
      "metadata": {
        "colab": {
          "base_uri": "https://localhost:8080/"
        },
        "id": "_M_UaT2a8i9U",
        "outputId": "fb59f187-13c8-4d6c-9673-2550a8a3a80e"
      },
      "execution_count": 5,
      "outputs": [
        {
          "output_type": "stream",
          "name": "stdout",
          "text": [
            "|      id      |  minutes  |\n",
            "|--------------------------|\n",
            "|    52970     |    45     |\n",
            "|    311126    |    45     |\n",
            "|    20623     |    205    |\n",
            "|    490291    |    70     |\n",
            "|    230428    |    65     |\n"
          ]
        }
      ]
    },
    {
      "cell_type": "markdown",
      "metadata": {
        "id": "u20q00aZ7lYF"
      },
      "source": [
        "2\\. Напишите функцию `show_info`, которая по данным о рецепте создает строку (в смысле объекта python) с описанием следующего вида:\n",
        "\n",
        "```\n",
        "\"Название Из Нескольких Слов\"\n",
        "\n",
        "1. Шаг 1\n",
        "2. Шаг 2\n",
        "----------\n",
        "Автор: contributor_id\n",
        "Среднее время приготовления: minutes минут\n",
        "```\n",
        "\n",
        "    \n",
        "Данные для создания строки получите из файлов `recipes_sample.csv` (__ЛР2__) и `steps_sample.xml` (__ЛР3__). \n",
        "Вызовите данную функцию для рецепта с id `170895` и выведите (через `print`) полученную строку на экран."
      ]
    },
    {
      "cell_type": "code",
      "source": [
        "from bs4 import BeautifulSoup\n",
        "\n",
        "with open('steps_sample.xml', 'r') as f:\n",
        "  data2 = BeautifulSoup(f, 'xml')\n",
        "data_rec = data2.recipe\n",
        "data_rec = data_rec.nextSibling.nextSibling\n",
        "data_rec_step = data_rec.step\n",
        "a = []\n",
        "for i in data_rec.steps:\n",
        "  a.append(i.next)\n",
        "b= []\n",
        "for j in range(1,len(a), 2):\n",
        "  b.append(a[j])\n",
        "\n",
        "def show_info(num):\n",
        "  data_rec = data2.recipe\n",
        "  \n",
        "  while True:\n",
        "    if data_rec.id.next == str(num):\n",
        "      strr = data[data[\"id\"] == num]\n",
        "      strr.reset_index(drop= True , inplace= True )\n",
        "      print(f'Название: {strr[\"name\"][0]}')\n",
        "      print()\n",
        "      a = []\n",
        "      for i in data_rec.steps:\n",
        "        a.append(i.next)\n",
        "      global b\n",
        "      b= []\n",
        "      for j in range(1,len(a), 2):\n",
        "        b.append(a[j])\n",
        "      for i in range(len(b)):\n",
        "        print(f\"{i+1}. Шаг {i+1} {b[i]}\")\n",
        "      print(\"----------\")\n",
        "      print(f'Автор: {strr[\"contributor_id\"][0]}')\n",
        "      print(f'Среднее время приготовления: {strr[\"minutes\"][0]} минут')\n",
        "      break\n",
        "      \n",
        "      \n",
        "    else:\n",
        "      data_rec = data_rec.nextSibling.nextSibling\n",
        "\n",
        "show_info(170895)"
      ],
      "metadata": {
        "colab": {
          "base_uri": "https://localhost:8080/"
        },
        "id": "XjFso9j28nWm",
        "outputId": "0106102b-874a-422e-ee77-202b439aa820"
      },
      "execution_count": 8,
      "outputs": [
        {
          "output_type": "stream",
          "name": "stdout",
          "text": [
            "Название: leeks and parsnips  sauteed or creamed\n",
            "\n",
            "1. Шаг 1 clean the leeks and discard the dark green portions\n",
            "2. Шаг 2 cut the leeks lengthwise then into one-inch pieces\n",
            "3. Шаг 3 melt the butter in a medium skillet , med\n",
            "4. Шаг 4 heat\n",
            "5. Шаг 5 add the garlic and fry 'til fragrant\n",
            "6. Шаг 6 add leeks and fry until the leeks are tender , about 6-minutes\n",
            "7. Шаг 7 meanwhile , peel and chunk the parsnips into one-inch pieces\n",
            "8. Шаг 8 place in a steaming basket and steam 'til they are as tender as you prefer\n",
            "9. Шаг 9 i like them fork-tender\n",
            "10. Шаг 10 drain parsnips and add to the skillet with the leeks\n",
            "11. Шаг 11 add salt and pepper\n",
            "12. Шаг 12 gently sautee together for 5-minutes\n",
            "13. Шаг 13 at this point you can serve it , or continue on and cream it:\n",
            "14. Шаг 14 in a jar with a screw top , add the half-n-half and arrowroot\n",
            "15. Шаг 15 shake 'til blended\n",
            "16. Шаг 16 turn heat to low under the leeks and parsnips\n",
            "17. Шаг 17 pour in the arrowroot mixture , stirring gently as you pour\n",
            "18. Шаг 18 if too thick , gradually add the water\n",
            "19. Шаг 19 let simmer for a couple of minutes\n",
            "20. Шаг 20 taste to adjust seasoning , probably an additional 1 / 2 teaspoon salt\n",
            "21. Шаг 21 serve warm\n",
            "----------\n",
            "Автор: 8377\n",
            "Среднее время приготовления: 27 минут\n"
          ]
        }
      ]
    },
    {
      "cell_type": "markdown",
      "metadata": {
        "id": "3D9p61zG7lYF"
      },
      "source": [
        "## Работа с регулярными выражениями"
      ]
    },
    {
      "cell_type": "markdown",
      "metadata": {
        "id": "XsQDhsMf7lYF"
      },
      "source": [
        "3\\. Напишите регулярное выражение, которое ищет следующий паттерн в строке: число (1 цифра или более), затем пробел, затем слова: hour или hours или minute или minutes. Произведите поиск по данному регулярному выражению в каждом шаге рецепта с id 25082. Выведите на экран все непустые результаты, найденные по данному шаблону."
      ]
    },
    {
      "cell_type": "code",
      "source": [
        "import re\n",
        "pattern = r\"\\d+\\s(hours?|minutes?)\"\n",
        "show_info(25082)\n",
        "print()\n",
        "for i in b:\n",
        "  if bool(re.search(pattern, str(i))) == True:\n",
        "    print(i)"
      ],
      "metadata": {
        "colab": {
          "base_uri": "https://localhost:8080/"
        },
        "id": "Ry4BXbn-91-7",
        "outputId": "b81f8a1f-d6b2-40e9-959c-32ef6b4114bb"
      },
      "execution_count": 11,
      "outputs": [
        {
          "output_type": "stream",
          "name": "stdout",
          "text": [
            "Название: basic whole wheat bread\n",
            "\n",
            "1. Шаг 1 proof yeast in half a cup of the water , with about a teaspoon of flour- let it sit , covered , until it becomes bubbly& active\n",
            "2. Шаг 2 combine the rest of the water with the yeast / water in a large bowl , and gradually add about half of the flour\n",
            "3. Шаг 3 stir the mixture about 100 times in the same direction , until it is well-mixed and strands are beginning to form\n",
            "4. Шаг 4 stir in the salt and oil\n",
            "5. Шаг 5 add the remaining flour half a cup at a time , stirring well , until it is too stiff to stir with a spoon\n",
            "6. Шаг 6 turn out onto a lightly floured board and knead for about 20 minutes , adding flour as nescessary to keep the dough from sticking to the board\n",
            "7. Шаг 7 the dough should be springy and nice to work with\n",
            "8. Шаг 8 when it has been sufficiently kneaded , cover it with a damp cloth for about 10 minutes and wash and grease the bowl lightly\n",
            "9. Шаг 9 after it has rested , knead the dough a few more times and place it in the bowl , covered with the damp cloth , a plastic bag , and maybe a plate\n",
            "10. Шаг 10 let the dough rise until it springs back when you stick your finger in it , and it is about twice the size as it was before (this takes about 2 hours\n",
            "11. Шаг 11 longer or shorter depending on the room temperature- i prefer a longer rise , because it allows the flavour to develop more\n",
            "12. Шаг 12 but sometimes you just don't have time for that sort of thing)\n",
            "13. Шаг 13 deflate the dough by punching or kneading it a few times , and let it rise again- this time , it should take about half the amount of time as it did before\n",
            "14. Шаг 14 when the dough has risen twice , deflate it again and cover it with the damp cloth again for about 10 minutes , then divide it into and shape it into loaves , buns , etc\n",
            "15. Шаг 15 let the shaped dough rise on a baking sheet or in a loaf-pan for about an hour maybe- it will rise a bit more in the oven\n",
            "16. Шаг 16 slash the top of the bread if you want , so that it doesn't bust open in the oven\n",
            "17. Шаг 17 bake at 400 for 20 minutes , and then turn the oven down to 350 and bake for 20-30 minutes longer , until the loaf is a lovely brown and sounds hollow when you thump it on the bottom\n",
            "18. Шаг 18 try to let the loaf cool before you tear into it\n",
            "----------\n",
            "Автор: 25483\n",
            "Среднее время приготовления: 290 минут\n",
            "\n",
            "turn out onto a lightly floured board and knead for about 20 minutes , adding flour as nescessary to keep the dough from sticking to the board\n",
            "when it has been sufficiently kneaded , cover it with a damp cloth for about 10 minutes and wash and grease the bowl lightly\n",
            "let the dough rise until it springs back when you stick your finger in it , and it is about twice the size as it was before (this takes about 2 hours\n",
            "when the dough has risen twice , deflate it again and cover it with the damp cloth again for about 10 minutes , then divide it into and shape it into loaves , buns , etc\n",
            "bake at 400 for 20 minutes , and then turn the oven down to 350 and bake for 20-30 minutes longer , until the loaf is a lovely brown and sounds hollow when you thump it on the bottom\n"
          ]
        }
      ]
    },
    {
      "cell_type": "markdown",
      "metadata": {
        "id": "MO0sSCEr7lYF"
      },
      "source": [
        "4\\. Напишите регулярное выражение, которое ищет шаблон вида \"this..., but\" _в начале строки_ . Между словом \"this\" и частью \", but\" может находиться произвольное число букв, цифр, знаков подчеркивания и пробелов. Никаких других символов вместо многоточия быть не может. Пробел между запятой и словом \"but\" может присутствовать или отсутствовать.\n",
        "\n",
        "Используя строковые методы `pd.Series`, выясните, для каких рецептов данный шаблон содержится в тексте описания. Выведите на экран количество таких рецептов и 3 примера подходящих описаний (текст описания должен быть виден на экране полностью)."
      ]
    },
    {
      "cell_type": "code",
      "source": [
        "data_copy = data[[\"id\",\"description\"]].copy()\n",
        "pattern = r\"\\d+\\s(hours?|minutes?)\"\n",
        "pattern = r\"^this[\\w\\s]*,\\s?but\"\n",
        "mass = []\n",
        "for i in data[\"description\"]:\n",
        "  if str(i) == \"nan\":\n",
        "    continue\n",
        "  if bool(re.search(pattern, i)) == True:\n",
        "    mass.append(i)\n",
        "for i in range(3):\n",
        "  print(mass[i])\n",
        "print(len(mass))"
      ],
      "metadata": {
        "colab": {
          "base_uri": "https://localhost:8080/"
        },
        "id": "w-T-iUWR-B3q",
        "outputId": "cf59f696-22dd-42c3-fd38-08ea66155519"
      },
      "execution_count": 13,
      "outputs": [
        {
          "output_type": "stream",
          "name": "stdout",
          "text": [
            "this is a great meal eaten the same day ,but even better the next day , if you can wait! add your favourite spices, but try it first as it is and i think that you will enjoy the 'vegetable' taste. good for freezing.\n",
            "this was adapted from a recipe i found on the net, but i added julienne onion to the peppers.  this is a meal in itself, or you could have a small slice with a meat dish.  for those that like to have brunch, it's a bit different to your traditional quiche recipes.  if you love cheese, you could add 1/2 cup of your favorite to the egg mixture, then pour over peppers.\n",
            "this is kind of similar to some of the other versions out there, but it is the best and easiest i have found\n",
            "134\n"
          ]
        }
      ]
    },
    {
      "cell_type": "markdown",
      "metadata": {
        "id": "eHFzwtrA7lYG"
      },
      "source": [
        "5\\. В текстах шагов рецептов обыкновенные дроби имеют вид \"a / b\". Используя регулярные выражения, уберите в тексте шагов рецепта с id 72367 пробелы до и после символа дроби. Выведите на экран шаги этого рецепта после их изменения."
      ]
    },
    {
      "cell_type": "code",
      "source": [
        "show_info(72367)\n",
        "print()\n",
        "\n",
        "for i in b:\n",
        "  recipe_72367 = re.sub(r'\\s*/\\s*', '/', i)\n",
        "  print(recipe_72367)"
      ],
      "metadata": {
        "colab": {
          "base_uri": "https://localhost:8080/"
        },
        "id": "ls99LH_2-KwZ",
        "outputId": "613c8f15-773a-49d7-dd80-041466d6324b"
      },
      "execution_count": 14,
      "outputs": [
        {
          "output_type": "stream",
          "name": "stdout",
          "text": [
            "Название: bavarian apple cheese cake tart\n",
            "\n",
            "1. Шаг 1 mix butter , flour , 1 / 3 c\n",
            "2. Шаг 2 sugar and 1-1 / 4 t\n",
            "3. Шаг 3 vanilla\n",
            "4. Шаг 4 press into greased 9\" springform pan\n",
            "5. Шаг 5 mix cream cheese , 1 / 4 c\n",
            "6. Шаг 6 sugar , eggs and 1 / 2 t\n",
            "7. Шаг 7 vanilla beating until fluffy\n",
            "8. Шаг 8 pour over dough\n",
            "9. Шаг 9 combine apples , 1 / 3 c\n",
            "10. Шаг 10 sugar and cinnamon\n",
            "11. Шаг 11 arrange on top of cream cheese mixture and sprinkle with almonds\n",
            "12. Шаг 12 bake at 350 for 45-55 minutes , or until tester comes out clean\n",
            "----------\n",
            "Автор: 93006\n",
            "Среднее время приготовления: 65 минут\n",
            "\n",
            "mix butter , flour , 1/3 c\n",
            "sugar and 1-1/4 t\n",
            "vanilla\n",
            "press into greased 9\" springform pan\n",
            "mix cream cheese , 1/4 c\n",
            "sugar , eggs and 1/2 t\n",
            "vanilla beating until fluffy\n",
            "pour over dough\n",
            "combine apples , 1/3 c\n",
            "sugar and cinnamon\n",
            "arrange on top of cream cheese mixture and sprinkle with almonds\n",
            "bake at 350 for 45-55 minutes , or until tester comes out clean\n"
          ]
        }
      ]
    },
    {
      "cell_type": "markdown",
      "metadata": {
        "id": "z9NUTkE-7lYG"
      },
      "source": [
        "### Сегментация текста"
      ]
    },
    {
      "cell_type": "markdown",
      "metadata": {
        "id": "FlxOAHhX7lYG"
      },
      "source": [
        "6\\. Разбейте тексты шагов рецептов на слова при помощи пакета `nltk`. Посчитайте и выведите на экран кол-во уникальных слов среди всех рецептов. Словом называется любая последовательность алфавитных символов (для проверки можно воспользоваться `str.isalpha`). При подсчете количества уникальных слов не учитывайте регистр."
      ]
    },
    {
      "cell_type": "code",
      "source": [
        "import nltk\n",
        "\n",
        "nltk.download('punkt')\n",
        "with open('steps_sample.xml', 'r') as f:\n",
        "  reader = BeautifulSoup(f, 'xml')\n",
        "steps = []\n",
        "for recipe in reader.recipes.find_all('recipe'):\n",
        "  steps.append([step.next for step in recipe.steps.find_all('step')])\n",
        "list_words = nltk.word_tokenize(' '.join([' '.join(i) for i in steps])) \n",
        "print(len(set(i.lower() for i in list_words if i.isalpha())))"
      ],
      "metadata": {
        "colab": {
          "base_uri": "https://localhost:8080/"
        },
        "id": "1476GdFx-XDx",
        "outputId": "dab8075b-2bde-4fa7-f8f8-4d6e08bc8652"
      },
      "execution_count": 17,
      "outputs": [
        {
          "output_type": "stream",
          "name": "stderr",
          "text": [
            "[nltk_data] Downloading package punkt to /root/nltk_data...\n",
            "[nltk_data]   Package punkt is already up-to-date!\n"
          ]
        },
        {
          "output_type": "stream",
          "name": "stdout",
          "text": [
            "14926\n"
          ]
        }
      ]
    },
    {
      "cell_type": "markdown",
      "metadata": {
        "id": "1YQ3WSXg7lYG"
      },
      "source": [
        "7\\. Разбейте описания рецептов из `recipes` на предложения при помощи пакета `nltk`. Найдите 5 самых длинных описаний (по количеству _предложений_) рецептов в датасете и выведите строки фрейма, соответствующие этим рецептами, в порядке убывания длины."
      ]
    },
    {
      "cell_type": "code",
      "source": [
        "recipes = pd.read_csv('recipes_sample.csv')\n",
        "\n",
        "recipes['n_sent'] = recipes['description'].apply(lambda i: len(nltk.sent_tokenize(str(i))))\n",
        "\n",
        "top_recipes = recipes.nlargest(5, ['n_sent'])\n",
        "top_recipes"
      ],
      "metadata": {
        "colab": {
          "base_uri": "https://localhost:8080/",
          "height": 337
        },
        "id": "sk7nU3hR-pqg",
        "outputId": "81613710-e7cd-40d7-9ec0-95b111cfff65"
      },
      "execution_count": 20,
      "outputs": [
        {
          "output_type": "execute_result",
          "data": {
            "text/plain": [
              "                                                    name      id  minutes  \\\n",
              "18408       my favorite buttercream icing for decorating  334113       30   \n",
              "481    alligator claws  avocado fritters  with chipot...  287008       45   \n",
              "22566                          rich barley mushroom soup  328708       60   \n",
              "6779                                       chocolate tea  205348        6   \n",
              "16296  little bunny foo foo cake  carrot cake  with c...  316000       68   \n",
              "\n",
              "       contributor_id   submitted  n_steps  \\\n",
              "18408          681465  2008-10-30     12.0   \n",
              "481            765354  2008-02-19      NaN   \n",
              "22566          221776  2008-10-03      NaN   \n",
              "6779           428824  2007-01-14      NaN   \n",
              "16296          689540  2008-07-27     14.0   \n",
              "\n",
              "                                             description  n_ingredients  \\\n",
              "18408  this wonderful icing is used for icing cakes a...            NaN   \n",
              "481    a translucent golden-brown crust allows the gr...            9.0   \n",
              "22566  this is one of the best soups i've ever made a...           10.0   \n",
              "6779   i wrote this because there are an astounding l...            NaN   \n",
              "16296  the first time i made this cake i grated a mil...            NaN   \n",
              "\n",
              "       n_sent  \n",
              "18408      76  \n",
              "481        27  \n",
              "22566      24  \n",
              "6779       23  \n",
              "16296      23  "
            ],
            "text/html": [
              "\n",
              "  <div id=\"df-692e6d19-478c-4807-ad16-678a3a026c70\">\n",
              "    <div class=\"colab-df-container\">\n",
              "      <div>\n",
              "<style scoped>\n",
              "    .dataframe tbody tr th:only-of-type {\n",
              "        vertical-align: middle;\n",
              "    }\n",
              "\n",
              "    .dataframe tbody tr th {\n",
              "        vertical-align: top;\n",
              "    }\n",
              "\n",
              "    .dataframe thead th {\n",
              "        text-align: right;\n",
              "    }\n",
              "</style>\n",
              "<table border=\"1\" class=\"dataframe\">\n",
              "  <thead>\n",
              "    <tr style=\"text-align: right;\">\n",
              "      <th></th>\n",
              "      <th>name</th>\n",
              "      <th>id</th>\n",
              "      <th>minutes</th>\n",
              "      <th>contributor_id</th>\n",
              "      <th>submitted</th>\n",
              "      <th>n_steps</th>\n",
              "      <th>description</th>\n",
              "      <th>n_ingredients</th>\n",
              "      <th>n_sent</th>\n",
              "    </tr>\n",
              "  </thead>\n",
              "  <tbody>\n",
              "    <tr>\n",
              "      <th>18408</th>\n",
              "      <td>my favorite buttercream icing for decorating</td>\n",
              "      <td>334113</td>\n",
              "      <td>30</td>\n",
              "      <td>681465</td>\n",
              "      <td>2008-10-30</td>\n",
              "      <td>12.0</td>\n",
              "      <td>this wonderful icing is used for icing cakes a...</td>\n",
              "      <td>NaN</td>\n",
              "      <td>76</td>\n",
              "    </tr>\n",
              "    <tr>\n",
              "      <th>481</th>\n",
              "      <td>alligator claws  avocado fritters  with chipot...</td>\n",
              "      <td>287008</td>\n",
              "      <td>45</td>\n",
              "      <td>765354</td>\n",
              "      <td>2008-02-19</td>\n",
              "      <td>NaN</td>\n",
              "      <td>a translucent golden-brown crust allows the gr...</td>\n",
              "      <td>9.0</td>\n",
              "      <td>27</td>\n",
              "    </tr>\n",
              "    <tr>\n",
              "      <th>22566</th>\n",
              "      <td>rich barley mushroom soup</td>\n",
              "      <td>328708</td>\n",
              "      <td>60</td>\n",
              "      <td>221776</td>\n",
              "      <td>2008-10-03</td>\n",
              "      <td>NaN</td>\n",
              "      <td>this is one of the best soups i've ever made a...</td>\n",
              "      <td>10.0</td>\n",
              "      <td>24</td>\n",
              "    </tr>\n",
              "    <tr>\n",
              "      <th>6779</th>\n",
              "      <td>chocolate tea</td>\n",
              "      <td>205348</td>\n",
              "      <td>6</td>\n",
              "      <td>428824</td>\n",
              "      <td>2007-01-14</td>\n",
              "      <td>NaN</td>\n",
              "      <td>i wrote this because there are an astounding l...</td>\n",
              "      <td>NaN</td>\n",
              "      <td>23</td>\n",
              "    </tr>\n",
              "    <tr>\n",
              "      <th>16296</th>\n",
              "      <td>little bunny foo foo cake  carrot cake  with c...</td>\n",
              "      <td>316000</td>\n",
              "      <td>68</td>\n",
              "      <td>689540</td>\n",
              "      <td>2008-07-27</td>\n",
              "      <td>14.0</td>\n",
              "      <td>the first time i made this cake i grated a mil...</td>\n",
              "      <td>NaN</td>\n",
              "      <td>23</td>\n",
              "    </tr>\n",
              "  </tbody>\n",
              "</table>\n",
              "</div>\n",
              "      <button class=\"colab-df-convert\" onclick=\"convertToInteractive('df-692e6d19-478c-4807-ad16-678a3a026c70')\"\n",
              "              title=\"Convert this dataframe to an interactive table.\"\n",
              "              style=\"display:none;\">\n",
              "        \n",
              "  <svg xmlns=\"http://www.w3.org/2000/svg\" height=\"24px\"viewBox=\"0 0 24 24\"\n",
              "       width=\"24px\">\n",
              "    <path d=\"M0 0h24v24H0V0z\" fill=\"none\"/>\n",
              "    <path d=\"M18.56 5.44l.94 2.06.94-2.06 2.06-.94-2.06-.94-.94-2.06-.94 2.06-2.06.94zm-11 1L8.5 8.5l.94-2.06 2.06-.94-2.06-.94L8.5 2.5l-.94 2.06-2.06.94zm10 10l.94 2.06.94-2.06 2.06-.94-2.06-.94-.94-2.06-.94 2.06-2.06.94z\"/><path d=\"M17.41 7.96l-1.37-1.37c-.4-.4-.92-.59-1.43-.59-.52 0-1.04.2-1.43.59L10.3 9.45l-7.72 7.72c-.78.78-.78 2.05 0 2.83L4 21.41c.39.39.9.59 1.41.59.51 0 1.02-.2 1.41-.59l7.78-7.78 2.81-2.81c.8-.78.8-2.07 0-2.86zM5.41 20L4 18.59l7.72-7.72 1.47 1.35L5.41 20z\"/>\n",
              "  </svg>\n",
              "      </button>\n",
              "      \n",
              "  <style>\n",
              "    .colab-df-container {\n",
              "      display:flex;\n",
              "      flex-wrap:wrap;\n",
              "      gap: 12px;\n",
              "    }\n",
              "\n",
              "    .colab-df-convert {\n",
              "      background-color: #E8F0FE;\n",
              "      border: none;\n",
              "      border-radius: 50%;\n",
              "      cursor: pointer;\n",
              "      display: none;\n",
              "      fill: #1967D2;\n",
              "      height: 32px;\n",
              "      padding: 0 0 0 0;\n",
              "      width: 32px;\n",
              "    }\n",
              "\n",
              "    .colab-df-convert:hover {\n",
              "      background-color: #E2EBFA;\n",
              "      box-shadow: 0px 1px 2px rgba(60, 64, 67, 0.3), 0px 1px 3px 1px rgba(60, 64, 67, 0.15);\n",
              "      fill: #174EA6;\n",
              "    }\n",
              "\n",
              "    [theme=dark] .colab-df-convert {\n",
              "      background-color: #3B4455;\n",
              "      fill: #D2E3FC;\n",
              "    }\n",
              "\n",
              "    [theme=dark] .colab-df-convert:hover {\n",
              "      background-color: #434B5C;\n",
              "      box-shadow: 0px 1px 3px 1px rgba(0, 0, 0, 0.15);\n",
              "      filter: drop-shadow(0px 1px 2px rgba(0, 0, 0, 0.3));\n",
              "      fill: #FFFFFF;\n",
              "    }\n",
              "  </style>\n",
              "\n",
              "      <script>\n",
              "        const buttonEl =\n",
              "          document.querySelector('#df-692e6d19-478c-4807-ad16-678a3a026c70 button.colab-df-convert');\n",
              "        buttonEl.style.display =\n",
              "          google.colab.kernel.accessAllowed ? 'block' : 'none';\n",
              "\n",
              "        async function convertToInteractive(key) {\n",
              "          const element = document.querySelector('#df-692e6d19-478c-4807-ad16-678a3a026c70');\n",
              "          const dataTable =\n",
              "            await google.colab.kernel.invokeFunction('convertToInteractive',\n",
              "                                                     [key], {});\n",
              "          if (!dataTable) return;\n",
              "\n",
              "          const docLinkHtml = 'Like what you see? Visit the ' +\n",
              "            '<a target=\"_blank\" href=https://colab.research.google.com/notebooks/data_table.ipynb>data table notebook</a>'\n",
              "            + ' to learn more about interactive tables.';\n",
              "          element.innerHTML = '';\n",
              "          dataTable['output_type'] = 'display_data';\n",
              "          await google.colab.output.renderOutput(dataTable, element);\n",
              "          const docLink = document.createElement('div');\n",
              "          docLink.innerHTML = docLinkHtml;\n",
              "          element.appendChild(docLink);\n",
              "        }\n",
              "      </script>\n",
              "    </div>\n",
              "  </div>\n",
              "  "
            ]
          },
          "metadata": {},
          "execution_count": 20
        }
      ]
    },
    {
      "cell_type": "markdown",
      "metadata": {
        "id": "HkMrXI-C7lYG"
      },
      "source": [
        "8\\. Напишите функцию, которая для заданного предложения выводит информацию о частях речи слов, входящих в предложение, в следующем виде:\n",
        "```\n",
        "PRP   VBD   DT      NNS     CC   VBD      NNS        RB   \n",
        " I  omitted the raspberries and added strawberries instead\n",
        "``` \n",
        "Для определения части речи слова можно воспользоваться `nltk.pos_tag`.\n",
        "\n",
        "Проверьте работоспособность функции на названии рецепта с id 241106.\n",
        "\n",
        "Обратите внимание, что часть речи должна находиться ровно посередине над соотвествующим словом, а между самими словами должен быть ровно один пробел.\n"
      ]
    },
    {
      "cell_type": "code",
      "execution_count": 24,
      "metadata": {
        "colab": {
          "base_uri": "https://localhost:8080/"
        },
        "id": "SbVoWIqq7lYG",
        "outputId": "84fabf18-78e5-4065-8d1e-97a85db5522a"
      },
      "outputs": [
        {
          "output_type": "stream",
          "name": "stderr",
          "text": [
            "[nltk_data] Downloading package averaged_perceptron_tagger to\n",
            "[nltk_data]     /root/nltk_data...\n",
            "[nltk_data]   Unzipping taggers/averaged_perceptron_tagger.zip.\n"
          ]
        },
        {
          "output_type": "stream",
          "name": "stdout",
          "text": [
            "    JJ     NNS    IN     NNS    VBP    JJ   CC   JJ    NNS  \n",
            "eggplant steaks with chickpeas feta cheese and black olives \n"
          ]
        }
      ],
      "source": [
        "nltk.download('averaged_perceptron_tagger')\n",
        "\n",
        "data[data['id'] == 241106]['name'].values\n",
        "\n",
        "sent = 'eggplant steaks with chickpeas  feta cheese and black olives'\n",
        "def sent_tag(sent):\n",
        "  word_value = nltk.pos_tag(nltk.word_tokenize(sent))\n",
        "  up, down = '', ''\n",
        "  for i in word_value:\n",
        "    up += f' {i[1]: ^{len(i[0])}}'\n",
        "    down += i[0]+' '\n",
        "  return up+'\\n'+down\n",
        "print(sent_tag(sent))"
      ]
    }
  ],
  "metadata": {
    "kernelspec": {
      "display_name": "Python 3 (ipykernel)",
      "language": "python",
      "name": "python3"
    },
    "language_info": {
      "codemirror_mode": {
        "name": "ipython",
        "version": 3
      },
      "file_extension": ".py",
      "mimetype": "text/x-python",
      "name": "python",
      "nbconvert_exporter": "python",
      "pygments_lexer": "ipython3",
      "version": "3.9.7"
    },
    "colab": {
      "provenance": []
    }
  },
  "nbformat": 4,
  "nbformat_minor": 0
}