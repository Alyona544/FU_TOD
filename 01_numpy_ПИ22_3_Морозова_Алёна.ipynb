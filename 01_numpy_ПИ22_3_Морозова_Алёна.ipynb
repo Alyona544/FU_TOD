{
  "cells": [
    {
      "cell_type": "markdown",
      "metadata": {
        "id": "_AF3z8RfnYh3"
      },
      "source": [
        "# Numpy"
      ]
    },
    {
      "cell_type": "markdown",
      "metadata": {
        "id": "hxQ8UFpPnYh-"
      },
      "source": [
        "Материалы:\n",
        "* Макрушин С.В. \"Лекция 1: Библиотека Numpy\"\n",
        "* https://numpy.org/doc/stable/user/index.html\n",
        "* https://numpy.org/doc/stable/reference/index.html"
      ]
    },
    {
      "cell_type": "markdown",
      "metadata": {
        "id": "0w9Kl69InYh_"
      },
      "source": [
        "## Задачи для совместного разбора"
      ]
    },
    {
      "cell_type": "code",
      "source": [
        "import numpy as np"
      ],
      "metadata": {
        "id": "u7SYyb5lbSVY"
      },
      "execution_count": 1,
      "outputs": []
    },
    {
      "cell_type": "markdown",
      "metadata": {
        "id": "yN0fwrUhnYh_"
      },
      "source": [
        "1. Сгенерировать двухмерный массив `arr` размерности (4, 7), состоящий из случайных действительных чисел, равномерно распределенных в диапазоне от 0 до 20. Нормализовать значения массива с помощью преобразования вида  $𝑎𝑥+𝑏$  так, что после нормализации максимальный элемент масcива будет равен 1.0, минимальный 0.0"
      ]
    },
    {
      "cell_type": "code",
      "execution_count": 2,
      "metadata": {
        "colab": {
          "base_uri": "https://localhost:8080/"
        },
        "id": "nEzs8sVpnYiA",
        "outputId": "bb784c8d-12e5-435d-ca7b-2784837e21c9"
      },
      "outputs": [
        {
          "output_type": "stream",
          "name": "stdout",
          "text": [
            "Изначальный массив:\n",
            " [[ 0.          0.74074074  1.48148148  2.22222222  2.96296296  3.7037037\n",
            "   4.44444444]\n",
            " [ 5.18518519  5.92592593  6.66666667  7.40740741  8.14814815  8.88888889\n",
            "   9.62962963]\n",
            " [10.37037037 11.11111111 11.85185185 12.59259259 13.33333333 14.07407407\n",
            "  14.81481481]\n",
            " [15.55555556 16.2962963  17.03703704 17.77777778 18.51851852 19.25925926\n",
            "  20.        ]]\n",
            "После нормализации:\n",
            " [[0.         0.03703704 0.07407407 0.11111111 0.14814815 0.18518519\n",
            "  0.22222222]\n",
            " [0.25925926 0.2962963  0.33333333 0.37037037 0.40740741 0.44444444\n",
            "  0.48148148]\n",
            " [0.51851852 0.55555556 0.59259259 0.62962963 0.66666667 0.7037037\n",
            "  0.74074074]\n",
            " [0.77777778 0.81481481 0.85185185 0.88888889 0.92592593 0.96296296\n",
            "  1.        ]]\n"
          ]
        }
      ],
      "source": [
        "arr = np.linspace(0, 20, 28).reshape(4, 7)\n",
        "norm_arr = (arr-np.min(arr))/(np.max(arr)-np.min(arr))\n",
        "print('Изначальный массив:\\n', arr)\n",
        "print('После нормализации:\\n', norm_arr)"
      ]
    },
    {
      "cell_type": "markdown",
      "metadata": {
        "id": "tdmWTXfrnYiB"
      },
      "source": [
        "2. Создать матрицу 8 на 10 из случайных целых (используя модуль `numpy.random`) чисел из диапозона от 0 до 10 и найти в ней строку (ее индекс и вывести саму строку), в которой сумма значений минимальна."
      ]
    },
    {
      "cell_type": "code",
      "source": [
        "matrix = np.random.randint(0, 11, size = (8, 10))\n",
        "summa = sum(matrix[0])\n",
        "index = 0\n",
        "for i in range(1, len(matrix)):\n",
        "  if index < sum(matrix[i]):\n",
        "    summa = sum(matrix[i])\n",
        "    index = i\n",
        "print('Матрица:\\n', matrix)\n",
        "print('Индекс строки с минимальной суммой:', index)\n",
        "print('Строка с минимальной суммой:', matrix[index])"
      ],
      "metadata": {
        "colab": {
          "base_uri": "https://localhost:8080/"
        },
        "id": "8y5p-LIGmMis",
        "outputId": "1f931400-0b06-4055-8711-018ce790f0a1"
      },
      "execution_count": 3,
      "outputs": [
        {
          "output_type": "stream",
          "name": "stdout",
          "text": [
            "Матрица:\n",
            " [[ 3  6  3  7  8 10  2  9  6  4]\n",
            " [ 7  3  4  9  7  7  1  0  1  7]\n",
            " [ 1  5  2  1  1 10  8  1  8  5]\n",
            " [ 2  7  0  1  6  6  7  0  8  5]\n",
            " [ 7 10  8  2  0  6 10  2  5  5]\n",
            " [ 3  7  1 10  1  5 10  2  6  9]\n",
            " [ 7  2  1  4 10  0  7  8  9  1]\n",
            " [ 8  2  3  4  3  0  9  9  0  6]]\n",
            "Индекс строки с минимальной суммой: 7\n",
            "Строка с минимальной суммой: [8 2 3 4 3 0 9 9 0 6]\n"
          ]
        }
      ]
    },
    {
      "cell_type": "markdown",
      "metadata": {
        "id": "rl4zMi6KnYiC"
      },
      "source": [
        "3. Найти евклидово расстояние между двумя одномерными векторами одинаковой размерности."
      ]
    },
    {
      "cell_type": "code",
      "source": [
        "A = np.random.randint(0, 10, size = (1, 3))\n",
        "B = np.random.randint(0, 10, size = (1, 3))\n",
        "for i in range(len(A)):\n",
        "  rasst = np.sqrt(np.sum(np.square(A[i]-B[i])))\n",
        "print(A)\n",
        "print(B)\n",
        "print(rasst)"
      ],
      "metadata": {
        "colab": {
          "base_uri": "https://localhost:8080/"
        },
        "id": "FY9tgVF6ITeA",
        "outputId": "d1c4b55c-4d29-4194-94e5-6113fef3f538"
      },
      "execution_count": 4,
      "outputs": [
        {
          "output_type": "stream",
          "name": "stdout",
          "text": [
            "[[1 1 2]]\n",
            "[[5 0 5]]\n",
            "5.0990195135927845\n"
          ]
        }
      ]
    },
    {
      "cell_type": "markdown",
      "metadata": {
        "id": "vipIZCKinYiD"
      },
      "source": [
        "4. Решить матричное уравнение `A*X*B=-C` - найти матрицу `X`. Где `A = [[-1, 2, 4], [-3, 1, 2], [-3, 0, 1]]`, `B=[[3, -1], [2, 1]]`, `C=[[7, 21], [11, 8], [8, 4]]`."
      ]
    },
    {
      "cell_type": "code",
      "source": [
        "A = np.array([[-1, 2, 4], [-3, 1, 2], [-3, 0, 1]])\n",
        "B = np.array([[3, -1], [2, 1]])\n",
        "C = np.array([[7, 21], [11, 8], [8, 4]])\n",
        "AX = np.dot(C*(-1), np.linalg.inv(B))\n",
        "X = np.dot(np.linalg.inv(A), AX)\n",
        "print(np.around(X, decimals = 2))"
      ],
      "metadata": {
        "colab": {
          "base_uri": "https://localhost:8080/"
        },
        "id": "8eGM8oTqPtvf",
        "outputId": "99438cfe-d9f2-4298-ae54-4022a7eaaa47"
      },
      "execution_count": 5,
      "outputs": [
        {
          "output_type": "stream",
          "name": "stdout",
          "text": [
            "[[ 1.  0.]\n",
            " [-2.  1.]\n",
            " [ 3. -4.]]\n"
          ]
        }
      ]
    },
    {
      "cell_type": "markdown",
      "metadata": {
        "id": "TfpSP98enYiE"
      },
      "source": [
        "## Лабораторная работа №1"
      ]
    },
    {
      "cell_type": "markdown",
      "metadata": {
        "id": "Vh9HxYYTnYiF"
      },
      "source": [
        "Замечание: при решении данных задач не подразумевается использования циклов или генераторов Python, если в задании не сказано обратного. Решение должно опираться на использования функционала библиотеки `numpy`."
      ]
    },
    {
      "cell_type": "markdown",
      "metadata": {
        "id": "gU4uXq0vnYiF"
      },
      "source": [
        "1. Файл `minutes_n_ingredients.csv` содержит информацию об идентификаторе рецепта, времени его выполнения в минутах и количестве необходимых ингредиентов. Считайте данные из этого файла в виде массива `numpy` типа `int32`, используя `np.loadtxt`. Выведите на экран первые 5 строк массива."
      ]
    },
    {
      "cell_type": "code",
      "source": [
        "f = np.loadtxt('minutes_n_ingredients.csv', dtype = 'int32', skiprows = 1, delimiter = ',')\n",
        "print(f[:5])"
      ],
      "metadata": {
        "id": "Zinb2nyBQak1",
        "outputId": "dd0cfd0e-97e6-4be7-94f9-2ae621d75420",
        "colab": {
          "base_uri": "https://localhost:8080/"
        }
      },
      "execution_count": 6,
      "outputs": [
        {
          "output_type": "stream",
          "name": "stdout",
          "text": [
            "[[127244     60     16]\n",
            " [ 23891     25      7]\n",
            " [ 94746     10      6]\n",
            " [ 67660      5      6]\n",
            " [157911     60     14]]\n"
          ]
        }
      ]
    },
    {
      "cell_type": "markdown",
      "metadata": {
        "id": "DOpEioKOnYiG"
      },
      "source": [
        "2. Вычислите среднее значение, минимум, максимум и медиану по каждому из столбцов, кроме первого."
      ]
    },
    {
      "cell_type": "code",
      "source": [
        "print(f'Среднее значение 2 столбца: {np.mean(f[:, 1])}, Cреднее значение 3 столбца {np.mean(f[:, 2])}')\n",
        "print(f'Минимальное значение 2 столбца: {np.min(f[:, 1])}, Минимальное значение 3 столбца {np.min(f[:, 2])}')\n",
        "print(f'Максимальное значение 2 столбца: {np.max(f[:, 1])}, Максимальное значение 3 столбца {np.max(f[:, 2])}')\n",
        "print(f'Медиана 2 столбца: {np.median(f[:, 1])}, Медиана 3 столбца {np.median(f[:, 2])}')"
      ],
      "metadata": {
        "id": "OV2DxOtuQbJ_",
        "colab": {
          "base_uri": "https://localhost:8080/"
        },
        "outputId": "a2b817c7-f923-4766-fecd-dac947b5d7b6"
      },
      "execution_count": 7,
      "outputs": [
        {
          "output_type": "stream",
          "name": "stdout",
          "text": [
            "Среднее значение 2 столбца: 21601.00169, Cреднее значение 3 столбца 9.05528\n",
            "Минимальное значение 2 столбца: 0, Минимальное значение 3 столбца 1\n",
            "Максимальное значение 2 столбца: 2147483647, Максимальное значение 3 столбца 39\n",
            "Медиана 2 столбца: 40.0, Медиана 3 столбца 9.0\n"
          ]
        }
      ]
    },
    {
      "cell_type": "markdown",
      "metadata": {
        "id": "B8HSiDuznYiG"
      },
      "source": [
        "3. Ограничьте сверху значения продолжительности выполнения рецепта значением квантиля $q_{0.75}$. "
      ]
    },
    {
      "cell_type": "code",
      "source": [
        "lim_by_quant = f.copy()\n",
        "quant = np.quantile(lim_by_quant[:, 1], .75)\n",
        "lim_by_quant[lim_by_quant[:, 1] > quant] = quant\n",
        "print(lim_by_quant)"
      ],
      "metadata": {
        "id": "-3opkda-QbyV",
        "colab": {
          "base_uri": "https://localhost:8080/"
        },
        "outputId": "84141384-d3ba-429d-9832-a0be9e0e8777"
      },
      "execution_count": 8,
      "outputs": [
        {
          "output_type": "stream",
          "name": "stdout",
          "text": [
            "[[127244     60     16]\n",
            " [ 23891     25      7]\n",
            " [ 94746     10      6]\n",
            " ...\n",
            " [498432     65     15]\n",
            " [370915      5      4]\n",
            " [    65     65     65]]\n"
          ]
        }
      ]
    },
    {
      "cell_type": "markdown",
      "metadata": {
        "id": "FlgIx8afnYiG"
      },
      "source": [
        "4. Посчитайте, для скольких рецептов указана продолжительность, равная нулю. Замените для таких строк значение в данном столбце на 1."
      ]
    },
    {
      "cell_type": "code",
      "source": [
        "f1 = f.copy()\n",
        "print(np.count_nonzero(f1[:,1] == 0))\n",
        "f[f1[:,1] == 0] = 1\n",
        "print(f)"
      ],
      "metadata": {
        "id": "4_h-rfJ7QcnV",
        "colab": {
          "base_uri": "https://localhost:8080/"
        },
        "outputId": "477f0a3d-5d45-46b7-f8d9-92621447bf1b"
      },
      "execution_count": 9,
      "outputs": [
        {
          "output_type": "stream",
          "name": "stdout",
          "text": [
            "479\n",
            "[[127244     60     16]\n",
            " [ 23891     25      7]\n",
            " [ 94746     10      6]\n",
            " ...\n",
            " [498432     65     15]\n",
            " [370915      5      4]\n",
            " [ 81993    140     14]]\n"
          ]
        }
      ]
    },
    {
      "cell_type": "markdown",
      "metadata": {
        "id": "EtVKuqe2nYiH"
      },
      "source": [
        "5. Посчитайте, сколько уникальных рецептов находится в датасете."
      ]
    },
    {
      "cell_type": "code",
      "source": [
        "f1 = f.copy()\n",
        "print(np.unique(f1[:, 0]))"
      ],
      "metadata": {
        "id": "q-pijAp0QdTO",
        "colab": {
          "base_uri": "https://localhost:8080/"
        },
        "outputId": "f2eb2c15-89e4-4e1f-c4a9-2c5c64195e13"
      },
      "execution_count": 10,
      "outputs": [
        {
          "output_type": "stream",
          "name": "stdout",
          "text": [
            "[     1     38     41 ... 537458 537485 537671]\n"
          ]
        }
      ]
    },
    {
      "cell_type": "markdown",
      "metadata": {
        "id": "_wmi5ZRZnYiH"
      },
      "source": [
        "6. Сколько и каких различных значений кол-ва ингредиентов присутвует в рецептах из датасета?"
      ]
    },
    {
      "cell_type": "code",
      "source": [
        "f1 = f.copy()\n",
        "print(np.unique(f1[:, 2]))\n",
        "print(np.unique(f1[:, 2]).size)"
      ],
      "metadata": {
        "id": "ysjI3wZgQeAk",
        "colab": {
          "base_uri": "https://localhost:8080/"
        },
        "outputId": "fe96139c-9ef6-4f87-eeef-0bdb05e4c69e"
      },
      "execution_count": 11,
      "outputs": [
        {
          "output_type": "stream",
          "name": "stdout",
          "text": [
            "[ 1  2  3  4  5  6  7  8  9 10 11 12 13 14 15 16 17 18 19 20 21 22 23 24\n",
            " 25 26 27 28 29 30 31 32 33 34 35 37 39]\n",
            "37\n"
          ]
        }
      ]
    },
    {
      "cell_type": "markdown",
      "metadata": {
        "id": "WRM_pqBtnYiI"
      },
      "source": [
        "7. Создайте версию массива, содержащую информацию только о рецептах, состоящих не более чем из 5 ингредиентов."
      ]
    },
    {
      "cell_type": "code",
      "source": [
        "f1 = f.copy()\n",
        "vers_1 = f1[f1[:, 2] <= 5] \n",
        "print(vers_1)"
      ],
      "metadata": {
        "id": "-eT1_9dKQelQ",
        "colab": {
          "base_uri": "https://localhost:8080/"
        },
        "outputId": "81c78fb8-2915-4bd9-de8a-06ea68f806ab"
      },
      "execution_count": 12,
      "outputs": [
        {
          "output_type": "stream",
          "name": "stdout",
          "text": [
            "[[446597     15      5]\n",
            " [204134      5      3]\n",
            " [ 25623      6      4]\n",
            " ...\n",
            " [ 52088     60      5]\n",
            " [128811     15      4]\n",
            " [370915      5      4]]\n"
          ]
        }
      ]
    },
    {
      "cell_type": "markdown",
      "metadata": {
        "id": "zEHBFVHlnYiI"
      },
      "source": [
        "8. Для каждого рецепта посчитайте, сколько в среднем ингредиентов приходится на одну минуту рецепта. Найдите максимальное значение этой величины для всего датасета"
      ]
    },
    {
      "cell_type": "code",
      "source": [
        "f1 = f.copy()\n",
        "masivik = f1[:, 2] / f1[:, 1]\n",
        "print(masivik)\n",
        "print(masivik.max())"
      ],
      "metadata": {
        "id": "FMy7bAySQfXa",
        "colab": {
          "base_uri": "https://localhost:8080/"
        },
        "outputId": "51768f22-4d0f-4018-bafc-f36868e04b87"
      },
      "execution_count": 13,
      "outputs": [
        {
          "output_type": "stream",
          "name": "stdout",
          "text": [
            "[0.26666667 0.28       0.6        ... 0.23076923 0.8        0.1       ]\n",
            "23.0\n"
          ]
        }
      ]
    },
    {
      "cell_type": "markdown",
      "metadata": {
        "id": "r7nXza_5nYiI"
      },
      "source": [
        "9. Вычислите среднее количество ингредиентов для топ-100 рецептов с наибольшей продолжительностью"
      ]
    },
    {
      "cell_type": "code",
      "source": [
        "f1 = f.copy()\n",
        "kols = np.argsort(f[:, 1])[-100:]\n",
        "print(np.mean(f[kols][:, 2]))"
      ],
      "metadata": {
        "id": "9rOXUgeDQgEN",
        "colab": {
          "base_uri": "https://localhost:8080/"
        },
        "outputId": "cd3f5147-c8d5-4779-92fa-cba8a59f9cc4"
      },
      "execution_count": 14,
      "outputs": [
        {
          "output_type": "stream",
          "name": "stdout",
          "text": [
            "6.61\n"
          ]
        }
      ]
    },
    {
      "cell_type": "markdown",
      "metadata": {
        "id": "ieYaao-rnYiI"
      },
      "source": [
        "10. Выберите случайным образом и выведите информацию о 10 различных рецептах"
      ]
    },
    {
      "cell_type": "code",
      "source": [
        "f1 = f.copy()\n",
        "print(f1[np.random.randint(0, f1.shape[0], 10)])"
      ],
      "metadata": {
        "id": "6xq6AmA0QiUi",
        "colab": {
          "base_uri": "https://localhost:8080/"
        },
        "outputId": "82780a75-5aa7-4ac6-9937-84d953933e37"
      },
      "execution_count": 15,
      "outputs": [
        {
          "output_type": "stream",
          "name": "stdout",
          "text": [
            "[[111091      5      7]\n",
            " [251715     10      5]\n",
            " [351980     50     17]\n",
            " [450521      2      6]\n",
            " [ 20120     45     11]\n",
            " [380856     30     16]\n",
            " [308003     90     12]\n",
            " [437179     60     10]\n",
            " [ 66455     15      7]\n",
            " [189635     40     11]]\n"
          ]
        }
      ]
    },
    {
      "cell_type": "markdown",
      "metadata": {
        "id": "Frxxgc1WnYiJ"
      },
      "source": [
        "11. Выведите процент рецептов, кол-во ингредиентов в которых меньше среднего."
      ]
    },
    {
      "cell_type": "code",
      "source": [
        "f1 = f.copy()\n",
        "sr = np.mean(f1[:, 2])\n",
        "print((np.count_nonzero(f1[:, 2] < sr) * 100) / f.shape[0])"
      ],
      "metadata": {
        "id": "VLmZy7d9Qi_J",
        "colab": {
          "base_uri": "https://localhost:8080/"
        },
        "outputId": "5379ae3a-9d1f-4f26-cda6-3ef9937062f9"
      },
      "execution_count": 16,
      "outputs": [
        {
          "output_type": "stream",
          "name": "stdout",
          "text": [
            "58.989\n"
          ]
        }
      ]
    },
    {
      "cell_type": "markdown",
      "metadata": {
        "id": "xlO1Oz2PnYiJ"
      },
      "source": [
        "12. Назовем \"простым\" такой рецепт, длительность выполнения которого не больше 20 минут и кол-во ингредиентов в котором не больше 5. Создайте версию датасета с дополнительным столбцом, значениями которого являются 1, если рецепт простой, и 0 в противном случае."
      ]
    },
    {
      "cell_type": "code",
      "source": [
        "f1 = f.copy()\n",
        "mask = (f1[:, 1] <= 20) & (f1[:, 2] <= 5).astype(int)\n",
        "mask_data = np.concatenate((f1, mask.reshape(1, mask.size).T), axis = 1)\n",
        "print(mask_data)"
      ],
      "metadata": {
        "id": "Ge4G4MocQkKp",
        "colab": {
          "base_uri": "https://localhost:8080/"
        },
        "outputId": "ab3d1e0a-68cc-432f-95ee-e00889b35cec"
      },
      "execution_count": 17,
      "outputs": [
        {
          "output_type": "stream",
          "name": "stdout",
          "text": [
            "[[127244     60     16      0]\n",
            " [ 23891     25      7      0]\n",
            " [ 94746     10      6      0]\n",
            " ...\n",
            " [498432     65     15      0]\n",
            " [370915      5      4      1]\n",
            " [ 81993    140     14      0]]\n"
          ]
        }
      ]
    },
    {
      "cell_type": "markdown",
      "metadata": {
        "id": "TQC0ZBKWnYiK"
      },
      "source": [
        "13. Выведите процент \"простых\" рецептов в датасете"
      ]
    },
    {
      "cell_type": "code",
      "source": [
        "f1 = f.copy()\n",
        "simple_set =  np.count_nonzero(mask_data[:, 3])\n",
        "print((simple_set * 100) / f1.shape[0])"
      ],
      "metadata": {
        "id": "lYAQ3BcoQlII",
        "colab": {
          "base_uri": "https://localhost:8080/"
        },
        "outputId": "ad1e11ea-7350-479f-df40-bded470e374e"
      },
      "execution_count": 18,
      "outputs": [
        {
          "output_type": "stream",
          "name": "stdout",
          "text": [
            "9.943\n"
          ]
        }
      ]
    },
    {
      "cell_type": "markdown",
      "metadata": {
        "id": "xOsdqsJenYiL"
      },
      "source": [
        "14. Разделим рецепты на группы по следующему правилу. Назовем рецепты короткими, если их продолжительность составляет менее 10 минут; стандартными, если их продолжительность составляет более 10, но менее 20 минут; и длинными, если их продолжительность составляет не менее 20 минут. Создайте трехмерный массив, где нулевая ось отвечает за номер группы (короткий, стандартный или длинный рецепт), первая ось - за сам рецепт и вторая ось - за характеристики рецепта. Выберите максимальное количество рецептов из каждой группы таким образом, чтобы было возможно сформировать трехмерный массив. Выведите форму полученного массива."
      ]
    },
    {
      "cell_type": "code",
      "source": [
        "f1 = f.copy()\n",
        "mask_smo = f1[f1[:, 1] < 10]\n",
        "mask_nor = f1[(f1[:, 1] >= 10) & (f1[:, 1] < 20)]\n",
        "mask_big = f1[f1[:, 1] >= 20]\n",
        "max_kol = np.min([mask_smo.shape[0], mask_nor.shape[0], mask_big.shape[0]])\n",
        "res_mas = np.array([mask_smo[:max_kol], mask_nor[:max_kol], mask_big[:max_kol]])\n",
        "print(res_mas)"
      ],
      "metadata": {
        "id": "VaO1kRmZQlzX",
        "colab": {
          "base_uri": "https://localhost:8080/"
        },
        "outputId": "081810d2-67b6-4c00-de99-76596b695155"
      },
      "execution_count": 19,
      "outputs": [
        {
          "output_type": "stream",
          "name": "stdout",
          "text": [
            "[[[ 67660      5      6]\n",
            "  [366174      7      9]\n",
            "  [204134      5      3]\n",
            "  ...\n",
            "  [420725      5      3]\n",
            "  [     1      1      1]\n",
            "  [370915      5      4]]\n",
            "\n",
            " [[ 94746     10      6]\n",
            "  [ 33941     18      9]\n",
            "  [446597     15      5]\n",
            "  ...\n",
            "  [  9831     15      7]\n",
            "  [335859     12     14]\n",
            "  [256812     10      3]]\n",
            "\n",
            " [[127244     60     16]\n",
            "  [ 23891     25      7]\n",
            "  [157911     60     14]\n",
            "  ...\n",
            "  [168901     25      7]\n",
            "  [392339     35     13]\n",
            "  [206732     45     10]]]\n"
          ]
        }
      ]
    }
  ],
  "metadata": {
    "kernelspec": {
      "display_name": "Python 3",
      "language": "python",
      "name": "python3"
    },
    "language_info": {
      "codemirror_mode": {
        "name": "ipython",
        "version": 3
      },
      "file_extension": ".py",
      "mimetype": "text/x-python",
      "name": "python",
      "nbconvert_exporter": "python",
      "pygments_lexer": "ipython3",
      "version": "3.7.6"
    },
    "colab": {
      "provenance": []
    }
  },
  "nbformat": 4,
  "nbformat_minor": 0
}